{
 "cells": [
  {
   "cell_type": "code",
   "execution_count": 1,
   "metadata": {
    "collapsed": true
   },
   "outputs": [],
   "source": [
    "import matplotlib.pyplot as plt\n",
    "import numpy as np\n",
    "import random\n",
    "from numpy.linalg import linalg as la\n",
    "\n",
    "f=open(\"hw3_train.txt\",mode='r')\n",
    "data=f.read()\n",
    "data=data.split('\\n')\n",
    "y=[]\n",
    "n=0\n",
    "for i in data:\n",
    "    data[n]=i.split('\\t')\n",
    "    data[n]=[float(x) for x in data[n]]\n",
    "    y.append(int(data[n][10]))\n",
    "    data[n]=[data[n][0],data[n][1],data[n][2],data[n][3],data[n][4],data[n][5],data[n][6],data[n][7],data[n][8],data[n][9]]\n",
    "    n+=1\n",
    "train_x=np.asarray(data)\n",
    "train_y=np.asarray(y)\n",
    "f.close()\n",
    "\n",
    "f=open(\"hw3_test.txt\",mode='r')\n",
    "data=f.read()\n",
    "data=data.split('\\n')\n",
    "n=0\n",
    "test_y=[]\n",
    "for i in data:\n",
    "    data[n]=i.split('\\t')\n",
    "    data[n]=[float(x) for x in data[n]]\n",
    "    test_y.append(int(data[n][10]))\n",
    "    data[n]=[data[n][0],data[n][1],data[n][2],data[n][3],data[n][4],data[n][5],data[n][6],data[n][7],data[n][8],data[n][9]]\n",
    "    n+=1\n",
    "test_x=np.asarray(data)\n",
    "test_y=np.asarray(test_y)\n",
    "f.close()"
   ]
  },
  {
   "cell_type": "code",
   "execution_count": null,
   "metadata": {
    "collapsed": true
   },
   "outputs": [],
   "source": []
  },
  {
   "cell_type": "code",
   "execution_count": 3,
   "metadata": {},
   "outputs": [
    {
     "name": "stdout",
     "output_type": "stream",
     "text": [
      "[ 0.14319136  0.03547826  0.02751091  0.02574648 -0.08175021  0.0807129\n",
      " -0.10946812  0.07786729  0.16393233  0.14074488]\n",
      "0.605378581733\n"
     ]
    }
   ],
   "source": [
    "###Problem 14###\n",
    "def meanSqrError(y, y_hat):\n",
    "    MSE = np.sum((y - y_hat) ** 2) / len(y)\n",
    "    return MSE\n",
    "\n",
    "def linearRegr(X,y):\n",
    "    xtx = X.transpose().dot(X)\n",
    "    xtx = la.inv(xtx)\n",
    "    theta = xtx.dot(X.transpose()).dot(y)\n",
    "    return theta\n",
    "\n",
    "theta = linearRegr(train_x,train_y)\n",
    "print(theta)\n",
    "train_y_hat=train_x.dot(theta)\n",
    "mse=meanSqrError(train_y,train_y_hat)\n",
    "print(mse)"
   ]
  },
  {
   "cell_type": "code",
   "execution_count": 4,
   "metadata": {},
   "outputs": [
    {
     "name": "stdout",
     "output_type": "stream",
     "text": [
      "0.32266666666666666\n"
     ]
    }
   ],
   "source": [
    "###Problem 18###\n",
    "def ZeroOneError(y, y_hat):\n",
    "    error=0\n",
    "    for i in range(len(y)):\n",
    "        if(np.sign(y[i])!=np.sign(y_hat[i])):\n",
    "            error+=1\n",
    "    return error/len(y)\n",
    "\n",
    "def linearRegr(X,y):\n",
    "    xtx = X.transpose().dot(X)\n",
    "    xtx = la.inv(xtx)\n",
    "    theta = xtx.dot(X.transpose()).dot(y)\n",
    "    return theta\n",
    "\n",
    "theta = linearRegr(train_x,train_y)\n",
    "#print(theta)\n",
    "train_y_hat=train_x.dot(theta)\n",
    "Ein=ZeroOneError(train_y,train_y_hat)\n",
    "test_y_hat=test_x.dot(theta)\n",
    "Eout=ZeroOneError(test_y,test_y_hat)\n",
    "print(abs(Eout-Ein))"
   ]
  },
  {
   "cell_type": "code",
   "execution_count": 8,
   "metadata": {},
   "outputs": [
    {
     "name": "stdout",
     "output_type": "stream",
     "text": [
      "[  1.00000000e+00   2.96515300e+00   2.44742700e+00   1.95875400e+00\n",
      "  -7.35410000e-02  -2.08845900e+00  -1.15637500e+00  -3.61324000e-01\n",
      "   1.62189500e+00  -4.51086200e+00  -6.39200000e-03   8.79213231e+00\n",
      "   5.98989892e+00   3.83671723e+00   5.40827868e-03   4.36166099e+00\n",
      "   1.33720314e+00   1.30555033e-01   2.63054339e+00   2.03478760e+01\n",
      "   4.08576640e-05   2.60700175e+01   1.46598403e+01   7.51518523e+00\n",
      "  -3.97730222e-04  -9.10915016e+00  -1.54630828e+00  -4.71726667e-02\n",
      "   4.26646517e+00  -9.17864606e+01  -2.61162188e-07]\n"
     ]
    }
   ],
   "source": [
    "print(train_x_p[0])"
   ]
  },
  {
   "cell_type": "code",
   "execution_count": 5,
   "metadata": {},
   "outputs": [
    {
     "name": "stdout",
     "output_type": "stream",
     "text": [
      "31\n",
      "0.37366666666666665\n"
     ]
    }
   ],
   "source": [
    "###Problem 19###\n",
    "def transform(Q,X) : \n",
    "        X_transform = np.column_stack((np.ones(len(X)),X))\n",
    "        j = 0\n",
    "        for j in range(2,Q+1) : \n",
    "            x_pow = np.power(X,j)                  \n",
    "            X_transform = np.column_stack((X_transform, x_pow)) \n",
    "        return X_transform    \n",
    "    \n",
    "train_x_p=transform(3,train_x)\n",
    "test_x_p=transform(3,test_x)\n",
    "\n",
    "theta = linearRegr(train_x_p,train_y)\n",
    "#print(theta)\n",
    "print(len(theta))\n",
    "train_y_hat=train_x_p.dot(theta)\n",
    "Ein=ZeroOneError(train_y,train_y_hat)\n",
    "test_y_hat=test_x_p.dot(theta)\n",
    "Eout=ZeroOneError(test_y,test_y_hat)\n",
    "print(abs(Eout-Ein))"
   ]
  },
  {
   "cell_type": "code",
   "execution_count": 97,
   "metadata": {},
   "outputs": [
    {
     "name": "stdout",
     "output_type": "stream",
     "text": [
      "101\n",
      "0.44666666666666666\n"
     ]
    }
   ],
   "source": [
    "###Problem 20###\n",
    "def transform(Q,X) : \n",
    "        X_transform = np.column_stack((np.ones(len(X)),X))\n",
    "        j = 0\n",
    "        for j in range(2,Q+1) : \n",
    "            x_pow = np.power(X,j)                  \n",
    "            X_transform = np.column_stack((X_transform, x_pow)) \n",
    "        return X_transform    \n",
    "    \n",
    "train_x_p=transform(10,train_x)\n",
    "test_x_p=transform(10,test_x)\n",
    "\n",
    "theta = linearRegr(train_x_p,train_y)\n",
    "#print(theta)\n",
    "print(len(theta))\n",
    "train_y_hat=train_x_p.dot(theta)\n",
    "Ein=ZeroOneError(train_y,train_y_hat)\n",
    "test_y_hat=test_x_p.dot(theta)\n",
    "Eout=ZeroOneError(test_y,test_y_hat)\n",
    "print(abs(Eout-Ein))"
   ]
  },
  {
   "cell_type": "code",
   "execution_count": null,
   "metadata": {
    "collapsed": true
   },
   "outputs": [],
   "source": []
  },
  {
   "cell_type": "code",
   "execution_count": 64,
   "metadata": {},
   "outputs": [
    {
     "name": "stdout",
     "output_type": "stream",
     "text": [
      "0.569289266354\n"
     ]
    }
   ],
   "source": [
    "###problem 16###\n",
    "def softmax(X):\n",
    "    exps = np.exp(X)\n",
    "    return exps / np.sum(exps)\n",
    "\n",
    "\n",
    "def CrossEntropyError(x,y,w):\n",
    "    ein=0\n",
    "    for i in range(len(y)):\n",
    "        ein+=np.log(1+np.exp(-y[i]*w.transpose().dot(x[i])))\n",
    "    return ein/len(y)\n",
    "\n",
    "eta=0.001\n",
    "iteration=[]\n",
    "e_in=[]\n",
    "\n",
    "for i in range(1000):\n",
    "    w=np.zeros(11)\n",
    "    seed=random.random()\n",
    "    random.seed(seed)\n",
    "    n=0\n",
    "    for ite in range(500):\n",
    "        index=random.randint(0,999)\n",
    "        x=train_x[index]\n",
    "        y=train_y[index]\n",
    "        w+=eta*(1/(1+np.exp(y*w.transpose().dot(x))))*(y*x)\n",
    "    e=CrossEntropyError(train_x,train_y,w)\n",
    "    e_in.append(e)\n",
    "print(np.mean(e_in))"
   ]
  },
  {
   "cell_type": "code",
   "execution_count": null,
   "metadata": {
    "collapsed": true
   },
   "outputs": [],
   "source": []
  },
  {
   "cell_type": "code",
   "execution_count": 52,
   "metadata": {},
   "outputs": [
    {
     "name": "stdout",
     "output_type": "stream",
     "text": [
      "0.504585222639\n"
     ]
    }
   ],
   "source": [
    "###problem 17###\n",
    "for i in range(1000):\n",
    "    w=theta\n",
    "    seed=random.random()\n",
    "    random.seed(seed)\n",
    "    n=0\n",
    "    for ite in range(500):\n",
    "        index=random.randint(0,999)\n",
    "        x=train_x[index]\n",
    "        y=train_y[index]\n",
    "        w+=eta*(1/(1+np.exp(y*w.transpose().dot(x))))*(y*x)\n",
    "    e=CrossEntropyError(train_x,train_y,w)\n",
    "    e_in.append(e)\n",
    "print(np.mean(e_in))"
   ]
  },
  {
   "cell_type": "code",
   "execution_count": 5,
   "metadata": {},
   "outputs": [
    {
     "name": "stdout",
     "output_type": "stream",
     "text": [
      "1857.001\n"
     ]
    }
   ],
   "source": [
    "###problem 15###\n",
    "\n",
    "eta=0.001\n",
    "iteration=[]\n",
    "\n",
    "\n",
    "for i in range(1000):\n",
    "    w=np.zeros(11)\n",
    "    seed=random.random()\n",
    "    random.seed(seed)\n",
    "    n=0\n",
    "    e_in=1\n",
    "    while(e_in>1.01*mse):\n",
    "        index=random.randint(0,999)\n",
    "        x=train_x[index]\n",
    "        y=train_y[index]\n",
    "        w+=eta*(2)*(y-w.transpose().dot(x))*x\n",
    "        train_y_hat=train_x.dot(w)\n",
    "        e_in=meanSqrError(train_y,train_y_hat)\n",
    "        n+=1\n",
    "    iteration.append(n)\n",
    "print(np.mean(iteration))"
   ]
  },
  {
   "cell_type": "code",
   "execution_count": null,
   "metadata": {
    "collapsed": true
   },
   "outputs": [],
   "source": []
  }
 ],
 "metadata": {
  "kernelspec": {
   "display_name": "Python 3",
   "language": "python",
   "name": "python3"
  },
  "language_info": {
   "codemirror_mode": {
    "name": "ipython",
    "version": 3
   },
   "file_extension": ".py",
   "mimetype": "text/x-python",
   "name": "python",
   "nbconvert_exporter": "python",
   "pygments_lexer": "ipython3",
   "version": "3.6.3"
  }
 },
 "nbformat": 4,
 "nbformat_minor": 2
}
