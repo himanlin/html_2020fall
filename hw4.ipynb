{
 "cells": [
  {
   "cell_type": "code",
   "execution_count": 1,
   "metadata": {
    "collapsed": true
   },
   "outputs": [],
   "source": [
    "import matplotlib.pyplot as plt\n",
    "import numpy as np\n",
    "import random\n",
    "from numpy.linalg import linalg as la\n",
    "\n",
    "f=open(\"hw4_train.txt\",mode='r')\n",
    "data=f.read()\n",
    "data=data.split('\\n')\n",
    "y=[]\n",
    "n=0\n",
    "for i in data:\n",
    "    data[n]=i.split(' ')\n",
    "    data[n]=[float(x) for x in data[n]]\n",
    "    y.append(int(data[n][6]))\n",
    "    data[n]=[data[n][0],data[n][1],data[n][2],data[n][3],data[n][4],data[n][5]]\n",
    "    n+=1\n",
    "train_x=np.asarray(data)\n",
    "train_y=np.asarray(y)\n",
    "f.close()\n",
    "\n",
    "f=open(\"hw4_test.txt\",mode='r')\n",
    "data=f.read()\n",
    "data=data.split('\\n')\n",
    "n=0\n",
    "test_y=[]\n",
    "for i in data:\n",
    "    data[n]=i.split(' ')\n",
    "    data[n]=[float(x) for x in data[n]]\n",
    "    test_y.append(int(data[n][6]))\n",
    "    data[n]=[data[n][0],data[n][1],data[n][2],data[n][3],data[n][4],data[n][5]]\n",
    "    n+=1\n",
    "test_x=np.asarray(data)\n",
    "test_y=np.asarray(test_y)\n",
    "f.close()"
   ]
  },
  {
   "cell_type": "code",
   "execution_count": 2,
   "metadata": {
    "collapsed": true
   },
   "outputs": [],
   "source": [
    "from sklearn.preprocessing import PolynomialFeatures\n",
    "import liblinear\n",
    "poly = PolynomialFeatures(2)\n",
    "train_x=poly.fit_transform(train_x)\n",
    "test_x=poly.fit_transform(test_x)"
   ]
  },
  {
   "cell_type": "code",
   "execution_count": 6,
   "metadata": {},
   "outputs": [
    {
     "data": {
      "text/plain": [
       "80"
      ]
     },
     "execution_count": 6,
     "metadata": {},
     "output_type": "execute_result"
    }
   ],
   "source": []
  },
  {
   "cell_type": "code",
   "execution_count": 4,
   "metadata": {},
   "outputs": [
    {
     "name": "stdout",
     "output_type": "stream",
     "text": [
      "0.32266666666666666\n"
     ]
    }
   ],
   "source": [
    "###Problem 18###\n",
    "def ZeroOneError(y, y_hat):\n",
    "    error=0\n",
    "    for i in range(len(y)):\n",
    "        if(np.sign(y[i])!=np.sign(y_hat[i])):\n",
    "            error+=1\n",
    "    return error/len(y)"
   ]
  },
  {
   "cell_type": "code",
   "execution_count": null,
   "metadata": {
    "collapsed": true
   },
   "outputs": [],
   "source": [
    "import liblinear\n",
    "l=[-4,-2,0,2,4]"
   ]
  },
  {
   "cell_type": "code",
   "execution_count": null,
   "metadata": {
    "collapsed": true
   },
   "outputs": [],
   "source": [
    "#16\n",
    "for i in l:\n",
    "    C=10**i\n",
    "    param='-s 0 -c '+chr(C)+' -e 0.000001'\n",
    "    model = train(train_y, train_x, param)\n",
    "    y_hat,p_acc,p_vals= predict(test_y, test_x, model)\n",
    "    e=ZeroOneError(test_y,y_hat)\n",
    "    print(e)"
   ]
  },
  {
   "cell_type": "code",
   "execution_count": null,
   "metadata": {
    "collapsed": true
   },
   "outputs": [],
   "source": [
    "#17\n",
    "for i in l:\n",
    "    C=10**i\n",
    "    param='-s 0 -c '+chr(C)+' -e 0.000001'\n",
    "    model = train(train_y, train_x, param)\n",
    "    y_hat,p_acc,p_vals= predict(train_y, train_x, model)\n",
    "    e=ZeroOneError(train_y,y_hat)\n",
    "    print(e)"
   ]
  },
  {
   "cell_type": "code",
   "execution_count": null,
   "metadata": {
    "collapsed": true
   },
   "outputs": [],
   "source": [
    "#18\n",
    "new_train_x=train_x[:120]\n",
    "new_train_y=train_y[:120]\n",
    "val_x=train_x[-80:]\n",
    "val_y=train_y[-80:]\n",
    "for i in l:\n",
    "    C=10**i\n",
    "    param='-s 0 -c '+chr(C)+' -e 0.000001'\n",
    "    model = train(new_train_y, new_train_x, param)\n",
    "    y_hat,p_acc,p_vals= predict(val_y, val_x, model)\n",
    "    e=ZeroOneError(val_y,y_hat)\n",
    "    print(e)"
   ]
  },
  {
   "cell_type": "code",
   "execution_count": 8,
   "metadata": {
    "collapsed": true
   },
   "outputs": [],
   "source": [
    "#19\n",
    "C=10**i\n",
    "param='-s 0 -c '+chr(C)+' -e 0.000001'\n",
    "model = train(train_y, train_x, param)\n",
    "y_hat= predict(val_y, val_x, model)\n",
    "e=ZeroOneError(val_y,y_hat)\n",
    "print(e)\n",
    "\n"
   ]
  },
  {
   "cell_type": "code",
   "execution_count": null,
   "metadata": {
    "collapsed": true
   },
   "outputs": [],
   "source": [
    "#20\n",
    "for i in l:\n",
    "    e=[]\n",
    "    for x in range(5):\n",
    "        a=x*40\n",
    "        b=(x+1)*40\n",
    "        train_x=train_x[:a]+train_x[b:]\n",
    "        train_y=train_y[:a]+train_x[b:]\n",
    "        val_x=train_x[a:b]\n",
    "        val_y=train_y[a:b]\n",
    "        C=10**i\n",
    "        param='-s 0 -c '+chr(C)+' -e 0.000001'\n",
    "        model = train(new_train_y, new_train_x, param)\n",
    "        y_hat,p_acc,p_vals= predict(val_y, val_x, model)\n",
    "        e.append(ZeroOneError(val_y,y_hat))\n",
    "    print(mean(e))"
   ]
  },
  {
   "cell_type": "code",
   "execution_count": null,
   "metadata": {
    "collapsed": true
   },
   "outputs": [],
   "source": []
  },
  {
   "cell_type": "code",
   "execution_count": null,
   "metadata": {
    "collapsed": true
   },
   "outputs": [],
   "source": []
  },
  {
   "cell_type": "code",
   "execution_count": 1,
   "metadata": {},
   "outputs": [
    {
     "ename": "ModuleNotFoundError",
     "evalue": "No module named 'liblinear.liblinearutil'; 'liblinear' is not a package",
     "output_type": "error",
     "traceback": [
      "\u001b[1;31m---------------------------------------------------------------------------\u001b[0m",
      "\u001b[1;31mModuleNotFoundError\u001b[0m                       Traceback (most recent call last)",
      "\u001b[1;32m<ipython-input-1-a9ec2850b0fa>\u001b[0m in \u001b[0;36m<module>\u001b[1;34m()\u001b[0m\n\u001b[0;32m      2\u001b[0m \u001b[1;32mimport\u001b[0m \u001b[0mnumpy\u001b[0m \u001b[1;32mas\u001b[0m \u001b[0mnp\u001b[0m\u001b[1;33m\u001b[0m\u001b[0m\n\u001b[0;32m      3\u001b[0m \u001b[1;32mfrom\u001b[0m \u001b[0msklearn\u001b[0m\u001b[1;33m.\u001b[0m\u001b[0mpreprocessing\u001b[0m \u001b[1;32mimport\u001b[0m \u001b[0mPolynomialFeatures\u001b[0m\u001b[1;33m\u001b[0m\u001b[0m\n\u001b[1;32m----> 4\u001b[1;33m \u001b[1;32mfrom\u001b[0m \u001b[0mliblinear\u001b[0m\u001b[1;33m.\u001b[0m\u001b[0mliblinearutil\u001b[0m \u001b[1;32mimport\u001b[0m \u001b[0mtrain\u001b[0m\u001b[1;33m,\u001b[0m \u001b[0mpredict\u001b[0m\u001b[1;33m\u001b[0m\u001b[0m\n\u001b[0m",
      "\u001b[1;31mModuleNotFoundError\u001b[0m: No module named 'liblinear.liblinearutil'; 'liblinear' is not a package"
     ]
    }
   ],
   "source": [
    "import scipy\n",
    "import numpy as np\n",
    "from sklearn.preprocessing import PolynomialFeatures\n",
    "from liblinear.liblinearutil import train, predict"
   ]
  },
  {
   "cell_type": "code",
   "execution_count": null,
   "metadata": {
    "collapsed": true
   },
   "outputs": [],
   "source": []
  }
 ],
 "metadata": {
  "kernelspec": {
   "display_name": "Python 3",
   "language": "python",
   "name": "python3"
  },
  "language_info": {
   "codemirror_mode": {
    "name": "ipython",
    "version": 3
   },
   "file_extension": ".py",
   "mimetype": "text/x-python",
   "name": "python",
   "nbconvert_exporter": "python",
   "pygments_lexer": "ipython3",
   "version": "3.6.3"
  }
 },
 "nbformat": 4,
 "nbformat_minor": 2
}
