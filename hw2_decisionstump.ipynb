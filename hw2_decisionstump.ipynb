{
 "cells": [
  {
   "cell_type": "code",
   "execution_count": 2,
   "metadata": {
    "collapsed": true
   },
   "outputs": [],
   "source": [
    "import numpy as np\n",
    "import random"
   ]
  },
  {
   "cell_type": "code",
   "execution_count": null,
   "metadata": {
    "collapsed": true
   },
   "outputs": [],
   "source": []
  },
  {
   "cell_type": "code",
   "execution_count": 19,
   "metadata": {},
   "outputs": [
    {
     "name": "stdout",
     "output_type": "stream",
     "text": [
      "0.294824252518\n"
     ]
    }
   ],
   "source": [
    "'''tau==0'''\n",
    "result=[]\n",
    "data=2\n",
    "for n in range(10000):\n",
    "    y=[]\n",
    "    x=np.random.uniform(-1,1,data)\n",
    "    x=sorted(x)\n",
    "    for i in x:\n",
    "        y.append(i)\n",
    "    e=[]\n",
    "    for i in range(len(x)):\n",
    "        s=-1\n",
    "        if i==0:\n",
    "            t=-1\n",
    "        else:\n",
    "            t=(x[i-1]+x[i])/2\n",
    "        false=0\n",
    "        for j in range(len(x)):\n",
    "            if s*np.sign(x[j]-t)*y[j]<0:\n",
    "                false+=1\n",
    "        e.append([s,t,false/len(x)])\n",
    "    for i in range(len(x)):\n",
    "        s=1\n",
    "        if i==0:\n",
    "            t=-1\n",
    "        else:\n",
    "            t=(x[i-1]+x[i])/2\n",
    "        false=0\n",
    "        for j in range(len(x)):\n",
    "            if s*np.sign(x[j]-t)*y[j]<0:\n",
    "                false+=1\n",
    "        e.append([s,t,false/len(x)])\n",
    "    e=sorted(e,key=lambda y: y[2])\n",
    "    g=e[0]\n",
    "    if g[0]==1:\n",
    "        result.append(abs(g[1])/2)\n",
    "    else:\n",
    "        result.append(1-abs(g[1])/2)\n",
    "print(np.mean(result))"
   ]
  },
  {
   "cell_type": "code",
   "execution_count": null,
   "metadata": {
    "collapsed": true
   },
   "outputs": [],
   "source": []
  },
  {
   "cell_type": "code",
   "execution_count": null,
   "metadata": {
    "collapsed": true
   },
   "outputs": [],
   "source": []
  },
  {
   "cell_type": "code",
   "execution_count": 3,
   "metadata": {},
   "outputs": [
    {
     "name": "stdout",
     "output_type": "stream",
     "text": [
      "[-1, -1, 0.0]\n",
      "0.366787648965\n"
     ]
    }
   ],
   "source": [
    "'''tau=0.1'''\n",
    "result=[]\n",
    "data=2\n",
    "for n in range(10000):\n",
    "    y=[]\n",
    "    x=np.random.uniform(-1,1,data)\n",
    "    x=sorted(x)\n",
    "    p=np.random.uniform(0,1,data)\n",
    "    for i in range(len(x)):\n",
    "        if  p[i]<=0.1:\n",
    "            y.append(-x[i])\n",
    "        else:\n",
    "            y.append(x[i])\n",
    "    e=[]\n",
    "    for i in range(len(x)):\n",
    "        s=-1\n",
    "        if i==0:\n",
    "            t=-1\n",
    "        else:\n",
    "            t=(x[i-1]+x[i])/2\n",
    "        false=0\n",
    "        for j in range(len(x)):\n",
    "            if s*np.sign(x[j]-t)*y[j]<0:\n",
    "                false+=1\n",
    "        e.append([s,t,false/len(x)])\n",
    "    for i in range(len(x)):\n",
    "        s=1\n",
    "        if i==0:\n",
    "            t=-1\n",
    "        else:\n",
    "            t=(x[i-1]+x[i])/2\n",
    "        false=0\n",
    "        for j in range(len(x)):\n",
    "            if s*np.sign(x[j]-t)*y[j]<0:\n",
    "                false+=1\n",
    "        e.append([s,t,false/len(x)])\n",
    "    e=sorted(e,key=lambda y: y[2])\n",
    "    g=e[0]\n",
    "    if g[0]==1:\n",
    "        result.append(0.8*abs(g[1])/2+0.1-g[2])\n",
    "    else:\n",
    "        result.append(0.8*(1-abs(g[1])/2)+0.1-g[2])\n",
    "\n",
    "print(g)\n",
    "print(np.mean(result))"
   ]
  },
  {
   "cell_type": "code",
   "execution_count": null,
   "metadata": {
    "collapsed": true
   },
   "outputs": [],
   "source": []
  },
  {
   "cell_type": "code",
   "execution_count": null,
   "metadata": {
    "collapsed": true
   },
   "outputs": [],
   "source": [
    "\n"
   ]
  },
  {
   "cell_type": "code",
   "execution_count": null,
   "metadata": {
    "collapsed": true
   },
   "outputs": [],
   "source": []
  },
  {
   "cell_type": "code",
   "execution_count": null,
   "metadata": {
    "collapsed": true
   },
   "outputs": [],
   "source": []
  }
 ],
 "metadata": {
  "kernelspec": {
   "display_name": "Python 3",
   "language": "python",
   "name": "python3"
  },
  "language_info": {
   "codemirror_mode": {
    "name": "ipython",
    "version": 3
   },
   "file_extension": ".py",
   "mimetype": "text/x-python",
   "name": "python",
   "nbconvert_exporter": "python",
   "pygments_lexer": "ipython3",
   "version": "3.6.3"
  }
 },
 "nbformat": 4,
 "nbformat_minor": 2
}
